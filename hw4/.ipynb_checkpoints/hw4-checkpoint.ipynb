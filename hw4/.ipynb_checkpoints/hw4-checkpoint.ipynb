{
 "cells": [
  {
   "cell_type": "code",
   "execution_count": 1,
   "id": "0cf1ce72-6668-4206-9422-58f32140563d",
   "metadata": {},
   "outputs": [],
   "source": [
    "import numpy as np"
   ]
  },
  {
   "cell_type": "code",
   "execution_count": 2,
   "id": "54d7c02f-3f31-4b4a-80aa-ae83acb7402e",
   "metadata": {},
   "outputs": [
    {
     "name": "stdout",
     "output_type": "stream",
     "text": [
      "(0.5769230769230769-0.38461538461538464j)\n"
     ]
    }
   ],
   "source": [
    "# 1\n",
    "Zl = 90 + 60j\n",
    "Z0 = 75\n",
    "zl = Zl/Z0\n",
    "yl = 1/zl\n",
    "\n",
    "theta1 = 0.231 # times lambda\n",
    "theta2 = 0.425 # times lambda"
   ]
  },
  {
   "cell_type": "code",
   "execution_count": 6,
   "id": "58a794dd-7e91-4007-8ee3-0cff8cb2befb",
   "metadata": {},
   "outputs": [
    {
     "name": "stdout",
     "output_type": "stream",
     "text": [
      "0.43836967271081734\n"
     ]
    }
   ],
   "source": [
    "#2\n",
    "l = (-1.331 + np.pi)/(2*np.pi)\n",
    "Zl = 200+100j\n",
    "Z0 = 102.5\n",
    "zl = Zl/Z0\n",
    "gamma = (Zl - Z0)/ (Zl + Z0)\n",
    "print(np.abs(gamma))"
   ]
  },
  {
   "cell_type": "code",
   "execution_count": null,
   "id": "f666a128-0563-4250-82cb-2fce0b197f2b",
   "metadata": {},
   "outputs": [],
   "source": []
  }
 ],
 "metadata": {
  "kernelspec": {
   "display_name": "Python 3 (ipykernel)",
   "language": "python",
   "name": "python3"
  },
  "language_info": {
   "codemirror_mode": {
    "name": "ipython",
    "version": 3
   },
   "file_extension": ".py",
   "mimetype": "text/x-python",
   "name": "python",
   "nbconvert_exporter": "python",
   "pygments_lexer": "ipython3",
   "version": "3.11.3"
  }
 },
 "nbformat": 4,
 "nbformat_minor": 5
}
