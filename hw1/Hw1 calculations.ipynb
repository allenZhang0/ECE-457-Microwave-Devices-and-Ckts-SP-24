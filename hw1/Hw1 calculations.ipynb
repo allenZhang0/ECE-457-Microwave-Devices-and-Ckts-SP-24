{
 "cells": [
  {
   "cell_type": "code",
   "execution_count": 19,
   "id": "8693bccf",
   "metadata": {},
   "outputs": [
    {
     "name": "stdout",
     "output_type": "stream",
     "text": [
      "50.2654824574367\n"
     ]
    }
   ],
   "source": [
    "import numpy as np\n",
    "#2.2\n",
    "R = 4\n",
    "G = 0.02\n",
    "L = 0.5 * (10**-6)\n",
    "C = 200 * (10**-12)\n",
    "w = 2*np.pi*800*(10**6)\n",
    "length = 0.3\n",
    "\n",
    "prop_const = np.sqrt((R+1j*w*L)*(G*1j*w*C))\n",
    "prop_const = np.sqrt((4+1j*800*np.pi)*(0.02+1j*(32*np.pi*(10**-2))))\n",
    "# tmp1 = (4+1j*800*np.pi)*(0.02+1j*(32*np.pi*(10**-2)))\n",
    "# mag = (np.sqrt(np.abs(tmp1)))\n",
    "\n",
    "# print(mag*np.sin(1.56))\n",
    "\n",
    "characteristic_impedance = np.sqrt((4+1j*800*np.pi)/(0.02+1j*(32*np.pi*(10**-2))))\n",
    "\n",
    "attenuation_dB = (0.5427*0.3)*(8.686)\n",
    "attenuation_dB\n",
    "\n",
    "#lossless\n",
    "print(w*np.sqrt(L*C))"
   ]
  },
  {
   "cell_type": "code",
   "execution_count": 20,
   "id": "36347801",
   "metadata": {},
   "outputs": [
    {
     "name": "stdout",
     "output_type": "stream",
     "text": [
      "0.008917623001674828\n"
     ]
    }
   ],
   "source": [
    "#2.3\n",
    "f = 1*(10**9)\n",
    "print(2.82*10**-7*np.sqrt(f))"
   ]
  },
  {
   "cell_type": "code",
   "execution_count": 3,
   "id": "83b9b12e",
   "metadata": {},
   "outputs": [
    {
     "data": {
      "text/plain": [
       "(0.4-0.26666666666666666j)"
      ]
     },
     "execution_count": 3,
     "metadata": {},
     "output_type": "execute_result"
    }
   ],
   "source": [
    "#2.8\n",
    "Zl = 30 - 20j\n",
    "z0 = 75\n",
    "zl = Zl / z0\n",
    "zl"
   ]
  },
  {
   "cell_type": "code",
   "execution_count": null,
   "id": "b7b99559",
   "metadata": {},
   "outputs": [],
   "source": []
  }
 ],
 "metadata": {
  "kernelspec": {
   "display_name": "Python 3 (ipykernel)",
   "language": "python",
   "name": "python3"
  },
  "language_info": {
   "codemirror_mode": {
    "name": "ipython",
    "version": 3
   },
   "file_extension": ".py",
   "mimetype": "text/x-python",
   "name": "python",
   "nbconvert_exporter": "python",
   "pygments_lexer": "ipython3",
   "version": "3.11.3"
  }
 },
 "nbformat": 4,
 "nbformat_minor": 5
}
