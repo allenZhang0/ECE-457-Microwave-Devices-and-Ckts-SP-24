{
 "cells": [
  {
   "cell_type": "code",
   "execution_count": 3,
   "id": "8693bccf",
   "metadata": {},
   "outputs": [
    {
     "name": "stdout",
     "output_type": "stream",
     "text": [
      "50.2654824574367\n"
     ]
    }
   ],
   "source": [
    "import numpy as np\n",
    "#2.2\n",
    "R = 4\n",
    "G = 0.02\n",
    "L = 0.5 * (10**-6)\n",
    "C = 200 * (10**-12)\n",
    "w = 2*np.pi*800*(10**6)\n",
    "length = 0.3\n",
    "\n",
    "prop_const = np.sqrt((R+1j*w*L)*(G*1j*w*C))\n",
    "prop_const = np.sqrt((4+1j*800*np.pi)*(0.02+1j*(32*np.pi*(10**-2))))\n",
    "# tmp1 = (4+1j*800*np.pi)*(0.02+1j*(32*np.pi*(10**-2)))\n",
    "# mag = (np.sqrt(np.abs(tmp1)))\n",
    "\n",
    "# print(mag*np.sin(1.56))\n",
    "\n",
    "characteristic_impedance = np.sqrt((4+1j*800*np.pi)/(0.02+1j*(32*np.pi*(10**-2))))\n",
    "\n",
    "attenuation_dB = (0.5427*0.3)*(8.686)\n",
    "attenuation_dB\n",
    "\n",
    "#lossless\n",
    "print(w*np.sqrt(L*C))"
   ]
  },
  {
   "cell_type": "code",
   "execution_count": 20,
   "id": "36347801",
   "metadata": {},
   "outputs": [
    {
     "name": "stdout",
     "output_type": "stream",
     "text": [
      "0.008917623001674828\n"
     ]
    }
   ],
   "source": [
    "#2.3\n",
    "f = 1*(10**9)\n",
    "print(2.82*10**-7*np.sqrt(f))"
   ]
  },
  {
   "cell_type": "code",
   "execution_count": 3,
   "id": "83b9b12e",
   "metadata": {},
   "outputs": [
    {
     "data": {
      "text/plain": [
       "(0.4-0.26666666666666666j)"
      ]
     },
     "execution_count": 3,
     "metadata": {},
     "output_type": "execute_result"
    }
   ],
   "source": [
    "#2.8\n",
    "Zl = 30 - 20j\n",
    "z0 = 75\n",
    "zl = Zl / z0\n",
    "zl"
   ]
  },
  {
   "cell_type": "code",
   "execution_count": 1,
   "id": "b7b99559",
   "metadata": {},
   "outputs": [
    {
     "name": "stdout",
     "output_type": "stream",
     "text": [
      "(26.4-9.6j)\n"
     ]
    }
   ],
   "source": [
    "#2.10\n",
    "z0 = 60\n",
    "zl = (0.44-0.16j)\n",
    "Zl = zl * z0\n",
    "print(Zl)"
   ]
  },
  {
   "cell_type": "code",
   "execution_count": 21,
   "id": "4f3b5ab0-9f16-4956-b72e-524374a66d04",
   "metadata": {},
   "outputs": [
    {
     "data": {
      "text/plain": [
       "0.033253848643182614"
      ]
     },
     "execution_count": 21,
     "metadata": {},
     "output_type": "execute_result"
    }
   ],
   "source": [
    "#2.11\n",
    "z0 = 100\n",
    "C = 5 * (10**-12)\n",
    "f = 2.5 * (10**9)\n",
    "load_cap = 1/(1j*2*np.pi*f*C)\n",
    "angle = np.arctan(100/(load_cap*1j))\n",
    "angle_deg = angle*(180/np.pi)\n",
    "beta = 2*np.pi*f*np.sqrt(1.65)/(3*10**8)\n",
    "angle_deg * np.pi/180 / beta\n",
    "\n",
    "load_ind = 1j*25*np.pi\n",
    "angle_ind = np.arctan(-4/np.pi)+np.pi\n",
    "length_ind = angle_ind / beta\n",
    "length_ind"
   ]
  },
  {
   "cell_type": "code",
   "execution_count": 38,
   "id": "dcfc355e-d67d-4483-a57e-ef786b77ba60",
   "metadata": {},
   "outputs": [
    {
     "data": {
      "text/plain": [
       "0.6819612506120165"
      ]
     },
     "execution_count": 38,
     "metadata": {},
     "output_type": "execute_result"
    }
   ],
   "source": [
    "#2.16\n",
    "Vg = 15\n",
    "Zg = 75\n",
    "Z0 = 75\n",
    "Zl = 60-1j*40\n",
    "\n",
    "gamma_l = (Zl - Z0) / (Zl + Z0)\n",
    "\n",
    "Pla = (Vg/2)**2 * 1/Z0 * (1-np.abs(gamma_l)**2)\n",
    "\n",
    "Zin = (0.65+0.37j)*Z0\n",
    "Plb = np.abs(Vg/(Zg+Zin))**2 * np.real(Zin)\n",
    "\n",
    "Vl = 7.5*(1+gamma_l)\n",
    "\n",
    "Plc = np.abs(Vl/Zl)**2 * np.real(Zl)\n",
    "Plb"
   ]
  },
  {
   "cell_type": "code",
   "execution_count": 40,
   "id": "a63a74f0-8379-4237-ba9c-fb90d0048840",
   "metadata": {},
   "outputs": [
    {
     "data": {
      "text/plain": [
       "(0.01-0.008j)"
      ]
     },
     "execution_count": 40,
     "metadata": {},
     "output_type": "execute_result"
    }
   ],
   "source": [
    "#2.20\n",
    "Z0 = 50\n",
    "yl = 0.5-0.4j\n",
    "Yl = (1/50)*(yl)\n",
    "Yl"
   ]
  },
  {
   "cell_type": "code",
   "execution_count": 41,
   "id": "70bce8a3-52c8-43ae-911b-36d96e75bd92",
   "metadata": {},
   "outputs": [
    {
     "data": {
      "text/plain": [
       "0.07600000000000001"
      ]
     },
     "execution_count": 41,
     "metadata": {},
     "output_type": "execute_result"
    }
   ],
   "source": [
    "0.25-0.174"
   ]
  },
  {
   "cell_type": "code",
   "execution_count": 42,
   "id": "150f6d83-05f6-4901-93b1-93e1b3ad58b6",
   "metadata": {},
   "outputs": [
    {
     "data": {
      "text/plain": [
       "0.324"
      ]
     },
     "execution_count": 42,
     "metadata": {},
     "output_type": "execute_result"
    }
   ],
   "source": [
    "0.4-0.076"
   ]
  },
  {
   "cell_type": "code",
   "execution_count": 43,
   "id": "5ff4effb-5f87-45b4-83aa-f63d44c79d94",
   "metadata": {},
   "outputs": [
    {
     "data": {
      "text/plain": [
       "0.07400000000000001"
      ]
     },
     "execution_count": 43,
     "metadata": {},
     "output_type": "execute_result"
    }
   ],
   "source": [
    "0.324-0.25"
   ]
  },
  {
   "cell_type": "code",
   "execution_count": 44,
   "id": "cf73a4f4-db0d-4ca8-a24e-0a8cc0ddc837",
   "metadata": {},
   "outputs": [
    {
     "data": {
      "text/plain": [
       "20.5"
      ]
     },
     "execution_count": 44,
     "metadata": {},
     "output_type": "execute_result"
    }
   ],
   "source": [
    "0.41*50"
   ]
  },
  {
   "cell_type": "code",
   "execution_count": null,
   "id": "31893036-6f77-4e9e-9689-4d42a33f9013",
   "metadata": {},
   "outputs": [],
   "source": []
  }
 ],
 "metadata": {
  "kernelspec": {
   "display_name": "Python 3 (ipykernel)",
   "language": "python",
   "name": "python3"
  },
  "language_info": {
   "codemirror_mode": {
    "name": "ipython",
    "version": 3
   },
   "file_extension": ".py",
   "mimetype": "text/x-python",
   "name": "python",
   "nbconvert_exporter": "python",
   "pygments_lexer": "ipython3",
   "version": "3.11.3"
  }
 },
 "nbformat": 4,
 "nbformat_minor": 5
}
