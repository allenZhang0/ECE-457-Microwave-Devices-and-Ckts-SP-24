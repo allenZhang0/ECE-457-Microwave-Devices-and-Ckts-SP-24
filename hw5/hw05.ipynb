{
 "cells": [
  {
   "cell_type": "code",
   "execution_count": 16,
   "id": "1249f805-1788-4b06-b522-cc2951ea99b4",
   "metadata": {},
   "outputs": [
    {
     "name": "stdout",
     "output_type": "stream",
     "text": [
      "[(61.1111111111111, 247.500000000000)]\n"
     ]
    }
   ],
   "source": [
    "#3\n",
    "from sympy import symbols, Eq, solve\n",
    "\n",
    "# Declare symbols\n",
    "x, y= symbols('x y')  # Include Z0 and a as symbols if they are not constants\n",
    "Z0 = 50\n",
    "a = 0.1\n",
    "\n",
    "# Define your equations\n",
    "eq1 = Eq(x*(y + (x*Z0)/(x+Z0)) / (x+y+(x*Z0)/(x+Z0)), Z0)\n",
    "eq2 = Eq((x*Z0)/(x*y+y*Z0+x*Z0), a)\n",
    "\n",
    "# Solve the equations\n",
    "solution = solve((eq1, eq2), (x, y))\n",
    "\n",
    "print(solution)\n",
    "\n",
    "\n"
   ]
  },
  {
   "cell_type": "code",
   "execution_count": null,
   "id": "cb08b5ed-c682-46cc-9e40-b2cf06333935",
   "metadata": {},
   "outputs": [],
   "source": []
  }
 ],
 "metadata": {
  "kernelspec": {
   "display_name": "Python 3 (ipykernel)",
   "language": "python",
   "name": "python3"
  },
  "language_info": {
   "codemirror_mode": {
    "name": "ipython",
    "version": 3
   },
   "file_extension": ".py",
   "mimetype": "text/x-python",
   "name": "python",
   "nbconvert_exporter": "python",
   "pygments_lexer": "ipython3",
   "version": "3.11.3"
  }
 },
 "nbformat": 4,
 "nbformat_minor": 5
}
