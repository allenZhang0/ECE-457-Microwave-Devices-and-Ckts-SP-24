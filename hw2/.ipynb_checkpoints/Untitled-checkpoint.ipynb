{
 "cells": [
  {
   "cell_type": "code",
   "execution_count": 2,
   "id": "c35b2afd",
   "metadata": {},
   "outputs": [
    {
     "data": {
      "text/plain": [
       "(-0+205.90562468195222j)"
      ]
     },
     "execution_count": 2,
     "metadata": {},
     "output_type": "execute_result"
    }
   ],
   "source": [
    "import numpy as np\n",
    "\n",
    "Zl = 110+70j\n",
    "Z0 = 100\n",
    "\n",
    "gamma0 = (Zl - Z0) / (Zl + Z0)\n",
    "bd = 2*np.pi * 0.192\n",
    "\n",
    "Zin = Z0 * (1+gamma0*np.exp(2*bd*-1j)) / (1-gamma0*np.exp(2*bd*-1j))\n",
    "\n",
    "X = (np.real(Zin)**2 + np.imag(Zin)**2) / (abs(np.imag(Zin)))\n",
    "reactance = X*1j\n",
    "\n",
    "total = Zin * reactance / (Zin + reactance)\n",
    "\n",
    "length_stub = (0.5/np.pi) * (np.arctan(-100/X) + np.pi)\n",
    "# length_stub\n",
    "\n",
    "#open stub calculation:\n",
    "Z_open_line = -1j * Z0 * 1/(np.tan(length_stub*2*np.pi))\n",
    "Z_open_line"
   ]
  },
  {
   "cell_type": "code",
   "execution_count": 6,
   "id": "a5e929c2",
   "metadata": {},
   "outputs": [
    {
     "data": {
      "text/plain": [
       "(12.773958089728293-4.523246438186396e-15j)"
      ]
     },
     "execution_count": 6,
     "metadata": {},
     "output_type": "execute_result"
    }
   ],
   "source": [
    "#3\n",
    "Zl1 = 200\n",
    "Z01 = 100\n",
    "gamma1 = (Zl1 - Z01) / (Zl1 + Z01)\n",
    "\n",
    "Zl2 = 100+200j\n",
    "Z02 = 100\n",
    "gamma2 = (Zl2 - Z02) / (Zl2 + Z02)\n",
    "\n",
    "bd1 = 90*np.pi/180\n",
    "bd2 = 112.5*np.pi/180\n",
    "\n",
    "Zin1 = Z01 * (1+gamma1*np.exp(-2j*bd1)) / (1-gamma1*np.exp(-2j*bd1))\n",
    "Zin2 = Z02 * (1+gamma2*np.exp(-2j*bd2)) / (1-gamma2*np.exp(-2j*bd2))\n",
    "Ztotal = (Zin1) * (Zin2) / (Zin1 + Zin2)\n",
    "Ztotal"
   ]
  },
  {
   "cell_type": "code",
   "execution_count": 7,
   "id": "7cbb1431",
   "metadata": {},
   "outputs": [
    {
     "data": {
      "text/plain": [
       "12.773958089728293"
      ]
     },
     "execution_count": 7,
     "metadata": {},
     "output_type": "execute_result"
    }
   ],
   "source": [
    "np.real(Zin1) * np.real(Zin2) / (np.real(Zin1) + np.real(Zin2))"
   ]
  },
  {
   "cell_type": "code",
   "execution_count": null,
   "id": "a207ab27",
   "metadata": {},
   "outputs": [],
   "source": []
  }
 ],
 "metadata": {
  "kernelspec": {
   "display_name": "Python 3 (ipykernel)",
   "language": "python",
   "name": "python3"
  },
  "language_info": {
   "codemirror_mode": {
    "name": "ipython",
    "version": 3
   },
   "file_extension": ".py",
   "mimetype": "text/x-python",
   "name": "python",
   "nbconvert_exporter": "python",
   "pygments_lexer": "ipython3",
   "version": "3.11.3"
  }
 },
 "nbformat": 4,
 "nbformat_minor": 5
}
